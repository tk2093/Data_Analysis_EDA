{
 "cells": [
  {
   "cell_type": "code",
   "execution_count": 54,
   "metadata": {
    "collapsed": true
   },
   "outputs": [],
   "source": [
    "import cx_Oracle\n",
    "import pandas as pd\n",
    "import matplotlib.pyplot as plt"
   ]
  },
  {
   "cell_type": "code",
   "execution_count": 55,
   "outputs": [],
   "source": [
    "\n",
    "con = cx_Oracle.connect('txp9730/Khdbshs4sfd76sf@//acaddbprod.uta.edu:1523/pcse1p.data.uta.edu')\n",
    "cur = con.cursor()"
   ],
   "metadata": {
    "collapsed": false,
    "pycharm": {
     "name": "#%%\n"
    }
   }
  },
  {
   "cell_type": "code",
   "execution_count": 56,
   "outputs": [],
   "source": [
    "cur.execute(\"alter session set current_schema=sharmac\")"
   ],
   "metadata": {
    "collapsed": false,
    "pycharm": {
     "name": "#%%\n"
    }
   }
  },
  {
   "cell_type": "code",
   "execution_count": 57,
   "outputs": [],
   "source": [
    "cur.execute(\"\"\"select startyear, genres, count(tconst)\n",
    "                from title_basics\n",
    "                where lower(genres) in ('comedy','horror','sci-fi') and titletype='movie' and startyear between '2000' and '2015'\n",
    "                group by startyear, genres\n",
    "                order by startyear, genres\"\"\")\n",
    "result=cur.fetchall()"
   ],
   "metadata": {
    "collapsed": false,
    "pycharm": {
     "name": "#%%\n"
    }
   }
  },
  {
   "cell_type": "code",
   "execution_count": 59,
   "outputs": [
    {
     "data": {
      "text/plain": "<Figure size 432x288 with 1 Axes>",
      "image/png": "[encoded data removed]"
     },
     "metadata": {
      "needs_background": "light"
     },
     "output_type": "display_data"
    }
   ],
   "source": [
    "df_ana1=pd.DataFrame(result,columns=['Year','Genres','Total_movies'])\n",
    "df=pd.pivot_table(df_ana1, values='Total_movies', columns=['Genres'],index=['Year'])\n",
    "df.plot.bar()\n",
    "plt.title(\"Genres by Year\")\n",
    "plt.savefig('Analysis1.png')"
   ],
   "metadata": {
    "collapsed": false,
    "pycharm": {
     "name": "#%%\n"
    }
   }
  },
  {
   "cell_type": "code",
   "execution_count": null,
   "outputs": [],
   "source": [
    "cur.execute(\"\"\"select Primarytitle, Startyear, genres, primaryname\n",
    "               from TITLE_BASICS t join TITLE_crew_dir td on t.TCONST=td.TCONST\n",
    "                                   join NAME_TITLE_MAPPING nt on t.TCONST=nt.TCONST\n",
    "                                   join NAME_BASICS nb on nt.NCONST=nb.NCONST\n",
    "               where td.directors=nt.NCONST and titletype='movie' and lower(Startyear) != '\\n'\n",
    "                                         and lower(genres)='comedy'\"\"\")\n",
    "result=cur.fetchall()\n",
    "df_ana2=pd.DataFrame(result,columns=['Title','Year','Genre','Name'])"
   ],
   "metadata": {
    "collapsed": false,
    "pycharm": {
     "name": "#%%\n"
    }
   }
  },
  {
   "cell_type": "code",
   "execution_count": null,
   "outputs": [],
   "source": [
    "df_ana2.head()\n"
   ],
   "metadata": {
    "collapsed": false,
    "pycharm": {
     "name": "#%%\n"
    }
   }
  },
  {
   "cell_type": "code",
   "execution_count": null,
   "outputs": [],
   "source": [
    "cur.execute(\"\"\"select tb.Startyear, count(tb.Tconst)\n",
    "             from TITLE_BASICS tb join TITLE_PRINCIPALS nt on tb.Tconst=nt.Tconst\n",
    "             where nt.Nconst = 'nm0000168' and lower(tb.startyear) not like '%\\n%' and tb.startyear between '1999' and '2009'\n",
    "             group by tb.startyear\n",
    "             order by tb.startyear\"\"\")\n",
    "result=cur.fetchall()\n",
    "df_ana3=pd.DataFrame(result,columns=['Startyear','Count'])"
   ],
   "metadata": {
    "collapsed": false,
    "pycharm": {
     "name": "#%%\n"
    }
   }
  },
  {
   "cell_type": "code",
   "execution_count": null,
   "outputs": [],
   "source": [
    "fig, ax = plt.subplots()\n",
    "df_ana3.plot(x='Startyear', kind='bar', ax=ax)\n",
    "ax.legend([\"Number of movies\"])\n",
    "plt.title(\"Samuel L. Jackson movies\")\n",
    "plt.savefig('Analysis3a.jpeg')"
   ],
   "metadata": {
    "collapsed": false,
    "pycharm": {
     "name": "#%%\n"
    }
   }
  },
  {
   "cell_type": "code",
   "execution_count": null,
   "outputs": [],
   "source": [
    "cur.execute(\"\"\"select tb.Startyear, count(tb.Tconst)\n",
    "                from TITLE_BASICS tb join TITLE_PRINCIPALS nt on tb.Tconst=nt.Tconst\n",
    "                where nt.Nconst = 'nm0000098' and lower(tb.startyear) not like '%\\n%' and tb.startyear between '1999' and '2009'\n",
    "                group by tb.startyear\n",
    "                order by tb.startyear\"\"\")\n",
    "result=cur.fetchall()\n",
    "df_ana4=pd.DataFrame(result,columns=['Startyear','Count'])"
   ],
   "metadata": {
    "collapsed": false,
    "pycharm": {
     "name": "#%%\n"
    }
   }
  },
  {
   "cell_type": "code",
   "execution_count": null,
   "outputs": [],
   "source": [
    "#df_ana4=df_ana4[:-1]\n",
    "\n",
    "fig, ax = plt.subplots()\n",
    "df_ana4.plot(x='Startyear', kind='bar', ax=ax)\n",
    "ax.legend([\"Number of movies\"])\n",
    "plt.title(\"Jennifer Aniston movies\")\n",
    "plt.savefig('Analysis3b.jpeg')"
   ],
   "metadata": {
    "collapsed": false,
    "pycharm": {
     "name": "#%%\n"
    }
   }
  },
  {
   "cell_type": "code",
   "execution_count": null,
   "outputs": [],
   "source": [
    "df_ana1.to_csv('Analysis1.csv', index=False)\n",
    "df_ana2.to_csv('Analysis2.csv', index=False)\n",
    "df_ana3.to_csv('Analysis3a.csv', index=False)\n",
    "df_ana4.to_csv('Analysis3b.csv', index=False)\n"
   ],
   "metadata": {
    "collapsed": false,
    "pycharm": {
     "name": "#%%\n"
    }
   }
  },
  {
   "cell_type": "code",
   "execution_count": null,
   "outputs": [],
   "source": [],
   "metadata": {
    "collapsed": false,
    "pycharm": {
     "name": "#%%\n"
    }
   }
  }
 ],
 "metadata": {
  "kernelspec": {
   "name": "python3",
   "language": "python",
   "display_name": "Python 3 (ipykernel)"
  },
  "language_info": {
   "codemirror_mode": {
    "name": "ipython",
    "version": 2
   },
   "file_extension": ".py",
   "mimetype": "text/x-python",
   "name": "python",
   "nbconvert_exporter": "python",
   "pygments_lexer": "ipython2",
   "version": "2.7.6"
  }
 },
 "nbformat": 4,
 "nbformat_minor": 0
}